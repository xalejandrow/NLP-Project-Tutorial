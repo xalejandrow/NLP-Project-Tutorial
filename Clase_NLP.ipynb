{
  "nbformat": 4,
  "nbformat_minor": 0,
  "metadata": {
    "colab": {
      "name": "Clase_NLP.ipynb",
      "provenance": [],
      "authorship_tag": "ABX9TyNoLjjCUwNToffZelWp7nDB",
      "include_colab_link": true
    },
    "kernelspec": {
      "name": "python3",
      "display_name": "Python 3"
    },
    "language_info": {
      "name": "python"
    }
  },
  "cells": [
    {
      "cell_type": "markdown",
      "metadata": {
        "id": "view-in-github",
        "colab_type": "text"
      },
      "source": [
        "<a href=\"https://colab.research.google.com/github/xalejandrow/NLP-Project-Tutorial/blob/main/Clase_NLP.ipynb\" target=\"_parent\"><img src=\"https://colab.research.google.com/assets/colab-badge.svg\" alt=\"Open In Colab\"/></a>"
      ]
    },
    {
      "cell_type": "code",
      "execution_count": 54,
      "metadata": {
        "colab": {
          "base_uri": "https://localhost:8080/"
        },
        "id": "zwyN06kq2aMa",
        "outputId": "f72c9168-ce54-4930-cb48-a1ea44259be3"
      },
      "outputs": [
        {
          "output_type": "stream",
          "name": "stderr",
          "text": [
            "[nltk_data] Downloading package stopwords to /root/nltk_data...\n",
            "[nltk_data]   Package stopwords is already up-to-date!\n"
          ]
        }
      ],
      "source": [
        "import pandas as pd\n",
        "import numpy as np\n",
        "import nltk\n",
        "import re\n",
        "import unicodedata\n",
        "from nltk.corpus import stopwords\n",
        "nltk.download('stopwords')\n",
        "from sklearn.feature_extraction.text import CountVectorizer\n",
        "from sklearn.naive_bayes import MultinomialNB\n",
        "from sklearn.model_selection import train_test_split\n"
      ]
    },
    {
      "cell_type": "code",
      "source": [
        "df_raw = pd.read_csv('https://raw.githubusercontent.com/4GeeksAcademy/machine-learning-content/master/assets/spam.csv')"
      ],
      "metadata": {
        "id": "KtbCA6Nu2pLz"
      },
      "execution_count": 11,
      "outputs": []
    },
    {
      "cell_type": "code",
      "source": [
        "df_raw.info()"
      ],
      "metadata": {
        "colab": {
          "base_uri": "https://localhost:8080/"
        },
        "id": "_Ghm5v7w2yi2",
        "outputId": "3acffb1c-427b-4e70-c697-54c082d80451"
      },
      "execution_count": 3,
      "outputs": [
        {
          "output_type": "stream",
          "name": "stdout",
          "text": [
            "<class 'pandas.core.frame.DataFrame'>\n",
            "RangeIndex: 5572 entries, 0 to 5571\n",
            "Data columns (total 2 columns):\n",
            " #   Column    Non-Null Count  Dtype \n",
            "---  ------    --------------  ----- \n",
            " 0   Category  5572 non-null   object\n",
            " 1   Message   5572 non-null   object\n",
            "dtypes: object(2)\n",
            "memory usage: 87.2+ KB\n"
          ]
        }
      ]
    },
    {
      "cell_type": "code",
      "source": [
        "df_raw.sample(10)"
      ],
      "metadata": {
        "colab": {
          "base_uri": "https://localhost:8080/",
          "height": 363
        },
        "id": "3uhkpqKH21eG",
        "outputId": "1935895c-f6b3-44a8-9aa1-c748d026982d"
      },
      "execution_count": 12,
      "outputs": [
        {
          "output_type": "execute_result",
          "data": {
            "text/plain": [
              "     Category                                            Message\n",
              "1946      ham  Can ü call me at 10:10 to make sure dat i've w...\n",
              "2722      ham     I'm working technical support :)voice process.\n",
              "3676      ham                           Whos this am in class:-)\n",
              "787       ham  It does it on its own. Most of the time it fix...\n",
              "4281     spam  WINNER!! As a valued network customer you have...\n",
              "1432      ham  My painful personal thought- \"I always try to ...\n",
              "4812      ham  E admin building there? I might b slightly ear...\n",
              "4667      ham                           Not..tel software name..\n",
              "1443      ham             Its ok., i just askd did u knw tht no?\n",
              "4415      ham  How stupid to say that i challenge god.You don..."
            ],
            "text/html": [
              "\n",
              "  <div id=\"df-f15d9df7-6227-4489-b9c9-f943c448bf62\">\n",
              "    <div class=\"colab-df-container\">\n",
              "      <div>\n",
              "<style scoped>\n",
              "    .dataframe tbody tr th:only-of-type {\n",
              "        vertical-align: middle;\n",
              "    }\n",
              "\n",
              "    .dataframe tbody tr th {\n",
              "        vertical-align: top;\n",
              "    }\n",
              "\n",
              "    .dataframe thead th {\n",
              "        text-align: right;\n",
              "    }\n",
              "</style>\n",
              "<table border=\"1\" class=\"dataframe\">\n",
              "  <thead>\n",
              "    <tr style=\"text-align: right;\">\n",
              "      <th></th>\n",
              "      <th>Category</th>\n",
              "      <th>Message</th>\n",
              "    </tr>\n",
              "  </thead>\n",
              "  <tbody>\n",
              "    <tr>\n",
              "      <th>1946</th>\n",
              "      <td>ham</td>\n",
              "      <td>Can ü call me at 10:10 to make sure dat i've w...</td>\n",
              "    </tr>\n",
              "    <tr>\n",
              "      <th>2722</th>\n",
              "      <td>ham</td>\n",
              "      <td>I'm working technical support :)voice process.</td>\n",
              "    </tr>\n",
              "    <tr>\n",
              "      <th>3676</th>\n",
              "      <td>ham</td>\n",
              "      <td>Whos this am in class:-)</td>\n",
              "    </tr>\n",
              "    <tr>\n",
              "      <th>787</th>\n",
              "      <td>ham</td>\n",
              "      <td>It does it on its own. Most of the time it fix...</td>\n",
              "    </tr>\n",
              "    <tr>\n",
              "      <th>4281</th>\n",
              "      <td>spam</td>\n",
              "      <td>WINNER!! As a valued network customer you have...</td>\n",
              "    </tr>\n",
              "    <tr>\n",
              "      <th>1432</th>\n",
              "      <td>ham</td>\n",
              "      <td>My painful personal thought- \"I always try to ...</td>\n",
              "    </tr>\n",
              "    <tr>\n",
              "      <th>4812</th>\n",
              "      <td>ham</td>\n",
              "      <td>E admin building there? I might b slightly ear...</td>\n",
              "    </tr>\n",
              "    <tr>\n",
              "      <th>4667</th>\n",
              "      <td>ham</td>\n",
              "      <td>Not..tel software name..</td>\n",
              "    </tr>\n",
              "    <tr>\n",
              "      <th>1443</th>\n",
              "      <td>ham</td>\n",
              "      <td>Its ok., i just askd did u knw tht no?</td>\n",
              "    </tr>\n",
              "    <tr>\n",
              "      <th>4415</th>\n",
              "      <td>ham</td>\n",
              "      <td>How stupid to say that i challenge god.You don...</td>\n",
              "    </tr>\n",
              "  </tbody>\n",
              "</table>\n",
              "</div>\n",
              "      <button class=\"colab-df-convert\" onclick=\"convertToInteractive('df-f15d9df7-6227-4489-b9c9-f943c448bf62')\"\n",
              "              title=\"Convert this dataframe to an interactive table.\"\n",
              "              style=\"display:none;\">\n",
              "        \n",
              "  <svg xmlns=\"http://www.w3.org/2000/svg\" height=\"24px\"viewBox=\"0 0 24 24\"\n",
              "       width=\"24px\">\n",
              "    <path d=\"M0 0h24v24H0V0z\" fill=\"none\"/>\n",
              "    <path d=\"M18.56 5.44l.94 2.06.94-2.06 2.06-.94-2.06-.94-.94-2.06-.94 2.06-2.06.94zm-11 1L8.5 8.5l.94-2.06 2.06-.94-2.06-.94L8.5 2.5l-.94 2.06-2.06.94zm10 10l.94 2.06.94-2.06 2.06-.94-2.06-.94-.94-2.06-.94 2.06-2.06.94z\"/><path d=\"M17.41 7.96l-1.37-1.37c-.4-.4-.92-.59-1.43-.59-.52 0-1.04.2-1.43.59L10.3 9.45l-7.72 7.72c-.78.78-.78 2.05 0 2.83L4 21.41c.39.39.9.59 1.41.59.51 0 1.02-.2 1.41-.59l7.78-7.78 2.81-2.81c.8-.78.8-2.07 0-2.86zM5.41 20L4 18.59l7.72-7.72 1.47 1.35L5.41 20z\"/>\n",
              "  </svg>\n",
              "      </button>\n",
              "      \n",
              "  <style>\n",
              "    .colab-df-container {\n",
              "      display:flex;\n",
              "      flex-wrap:wrap;\n",
              "      gap: 12px;\n",
              "    }\n",
              "\n",
              "    .colab-df-convert {\n",
              "      background-color: #E8F0FE;\n",
              "      border: none;\n",
              "      border-radius: 50%;\n",
              "      cursor: pointer;\n",
              "      display: none;\n",
              "      fill: #1967D2;\n",
              "      height: 32px;\n",
              "      padding: 0 0 0 0;\n",
              "      width: 32px;\n",
              "    }\n",
              "\n",
              "    .colab-df-convert:hover {\n",
              "      background-color: #E2EBFA;\n",
              "      box-shadow: 0px 1px 2px rgba(60, 64, 67, 0.3), 0px 1px 3px 1px rgba(60, 64, 67, 0.15);\n",
              "      fill: #174EA6;\n",
              "    }\n",
              "\n",
              "    [theme=dark] .colab-df-convert {\n",
              "      background-color: #3B4455;\n",
              "      fill: #D2E3FC;\n",
              "    }\n",
              "\n",
              "    [theme=dark] .colab-df-convert:hover {\n",
              "      background-color: #434B5C;\n",
              "      box-shadow: 0px 1px 3px 1px rgba(0, 0, 0, 0.15);\n",
              "      filter: drop-shadow(0px 1px 2px rgba(0, 0, 0, 0.3));\n",
              "      fill: #FFFFFF;\n",
              "    }\n",
              "  </style>\n",
              "\n",
              "      <script>\n",
              "        const buttonEl =\n",
              "          document.querySelector('#df-f15d9df7-6227-4489-b9c9-f943c448bf62 button.colab-df-convert');\n",
              "        buttonEl.style.display =\n",
              "          google.colab.kernel.accessAllowed ? 'block' : 'none';\n",
              "\n",
              "        async function convertToInteractive(key) {\n",
              "          const element = document.querySelector('#df-f15d9df7-6227-4489-b9c9-f943c448bf62');\n",
              "          const dataTable =\n",
              "            await google.colab.kernel.invokeFunction('convertToInteractive',\n",
              "                                                     [key], {});\n",
              "          if (!dataTable) return;\n",
              "\n",
              "          const docLinkHtml = 'Like what you see? Visit the ' +\n",
              "            '<a target=\"_blank\" href=https://colab.research.google.com/notebooks/data_table.ipynb>data table notebook</a>'\n",
              "            + ' to learn more about interactive tables.';\n",
              "          element.innerHTML = '';\n",
              "          dataTable['output_type'] = 'display_data';\n",
              "          await google.colab.output.renderOutput(dataTable, element);\n",
              "          const docLink = document.createElement('div');\n",
              "          docLink.innerHTML = docLinkHtml;\n",
              "          element.appendChild(docLink);\n",
              "        }\n",
              "      </script>\n",
              "    </div>\n",
              "  </div>\n",
              "  "
            ]
          },
          "metadata": {},
          "execution_count": 12
        }
      ]
    },
    {
      "cell_type": "code",
      "source": [
        "# Tratar de llevar la información de texto a minúsculas\n",
        "df_raw['Message'] = df_raw['Message'].str.lower()"
      ],
      "metadata": {
        "id": "kVKsnFfe3ZPC"
      },
      "execution_count": 13,
      "outputs": []
    },
    {
      "cell_type": "code",
      "source": [
        "#df_raw.sample(10)"
      ],
      "metadata": {
        "id": "xBZGFEzB3pEe"
      },
      "execution_count": 14,
      "outputs": []
    },
    {
      "cell_type": "code",
      "source": [
        "# Elementos de texto qeu no son informativos - stopwords\n",
        "# Tratar de encontrar esas palabras\n",
        "\n",
        "df_raw['Message'].str.split(expand=True).stack().value_counts()[:60]"
      ],
      "metadata": {
        "colab": {
          "base_uri": "https://localhost:8080/"
        },
        "id": "_l8xUfAM38Yn",
        "outputId": "e127e428-e733-4765-b072-74f642cfe07d"
      },
      "execution_count": 16,
      "outputs": [
        {
          "output_type": "execute_result",
          "data": {
            "text/plain": [
              "to           2234\n",
              "i            2217\n",
              "you          1921\n",
              "a            1433\n",
              "the          1326\n",
              "u             996\n",
              "and           968\n",
              "is            868\n",
              "in            857\n",
              "my            755\n",
              "for           704\n",
              "your          677\n",
              "of            614\n",
              "me            611\n",
              "have          568\n",
              "call          556\n",
              "on            521\n",
              "are           487\n",
              "that          470\n",
              "it            466\n",
              "2             457\n",
              "so            423\n",
              "but           422\n",
              "or            415\n",
              "not           411\n",
              "at            400\n",
              "can           386\n",
              "ur            385\n",
              "if            382\n",
              "with          379\n",
              "will          379\n",
              "i'm           377\n",
              "be            376\n",
              "get           375\n",
              "do            364\n",
              "just          363\n",
              "we            346\n",
              "this          309\n",
              "when          283\n",
              "from          277\n",
              "&lt;#&gt;     276\n",
              "go            265\n",
              "up            264\n",
              "all           261\n",
              "no            258\n",
              "4             255\n",
              "how           254\n",
              "what          252\n",
              "now           247\n",
              ".             241\n",
              "like          236\n",
              "got           235\n",
              "know          230\n",
              "was           230\n",
              "free          228\n",
              "out           220\n",
              "come          220\n",
              "am            217\n",
              "its           209\n",
              "then          205\n",
              "dtype: int64"
            ]
          },
          "metadata": {},
          "execution_count": 16
        }
      ]
    },
    {
      "cell_type": "code",
      "source": [
        "# Función para Retirar las stopword\n",
        "stop = stopwords.words('english')\n",
        "def remove_stopwords(message):\n",
        "  if message is not None:\n",
        "    words = message.strip().split()\n",
        "    words_filtered = []\n",
        "    for word in words:\n",
        "      if word not in stop:\n",
        "        words_filtered.append(word)\n",
        "    result = \" \".join(words_filtered)\n",
        "  else:\n",
        "    result = None\n",
        "  return result\n"
      ],
      "metadata": {
        "id": "8Yb-woDA5sx-"
      },
      "execution_count": 24,
      "outputs": []
    },
    {
      "cell_type": "code",
      "source": [
        "df_interin = df_raw.copy()"
      ],
      "metadata": {
        "id": "EG-8z1GI9B2z"
      },
      "execution_count": 26,
      "outputs": []
    },
    {
      "cell_type": "code",
      "source": [
        "df_interin['Message'] = df_interin['Message'].apply(remove_stopwords)"
      ],
      "metadata": {
        "id": "GCorm1Z18xbc"
      },
      "execution_count": 27,
      "outputs": []
    },
    {
      "cell_type": "code",
      "source": [
        "df_interin['Message'].str.split(expand=True).stack().value_counts()[:60]"
      ],
      "metadata": {
        "colab": {
          "base_uri": "https://localhost:8080/"
        },
        "id": "cmI4bnIe9Gzv",
        "outputId": "361fd64f-7cce-4069-f126-af1a12bc0128"
      },
      "execution_count": 28,
      "outputs": [
        {
          "output_type": "execute_result",
          "data": {
            "text/plain": [
              "u            996\n",
              "call         556\n",
              "2            457\n",
              "ur           385\n",
              "i'm          377\n",
              "get          375\n",
              "&lt;#&gt;    276\n",
              "go           265\n",
              "4            255\n",
              ".            241\n",
              "like         236\n",
              "got          235\n",
              "know         230\n",
              "free         228\n",
              "come         220\n",
              "good         201\n",
              "?            187\n",
              "send         187\n",
              "want         183\n",
              "text         175\n",
              "time         169\n",
              "i'll         168\n",
              "...          163\n",
              "love         163\n",
              "going        161\n",
              "ok           160\n",
              "ü            157\n",
              "need         157\n",
              "r            153\n",
              "still        151\n",
              "one          150\n",
              "txt          149\n",
              "n            146\n",
              "see          145\n",
              "dont         140\n",
              "new          136\n",
              "tell         135\n",
              "think        127\n",
              "reply        126\n",
              "mobile       124\n",
              "take         124\n",
              "back         121\n",
              "stop         119\n",
              "please       118\n",
              "home         112\n",
              "day          111\n",
              "&            111\n",
              "hi           108\n",
              "claim        104\n",
              "hope         103\n",
              "make         101\n",
              "give         100\n",
              "pls           99\n",
              "me.           98\n",
              "phone         97\n",
              "now.          94\n",
              "later         94\n",
              "happy         93\n",
              "much          93\n",
              "hey           88\n",
              "dtype: int64"
            ]
          },
          "metadata": {},
          "execution_count": 28
        }
      ]
    },
    {
      "cell_type": "code",
      "source": [
        "# Utilizaremos regex regular expression\n",
        "df_interin['Message'] = df_interin['Message'].str.replace(\".\",\"\", regex=False)"
      ],
      "metadata": {
        "id": "EwytTc9Y9Url"
      },
      "execution_count": 31,
      "outputs": []
    },
    {
      "cell_type": "code",
      "source": [
        "# Primer regex\n",
        "df_interin['Message'] = df_interin['Message'].str.replace(\"\"\"[?&#,;.ü']\"\"\",\"\", regex=True)"
      ],
      "metadata": {
        "id": "5mq5h8fK-nQ6"
      },
      "execution_count": 42,
      "outputs": []
    },
    {
      "cell_type": "code",
      "source": [
        "df_interin['Message'].str.split(expand=True).stack().value_counts()[:60]"
      ],
      "metadata": {
        "colab": {
          "base_uri": "https://localhost:8080/"
        },
        "id": "dQfPXUGSANOo",
        "outputId": "f5d1facb-6134-4389-d3d9-f4ace63b490f"
      },
      "execution_count": 43,
      "outputs": [
        {
          "output_type": "execute_result",
          "data": {
            "text/plain": [
              "u         1105\n",
              "call       573\n",
              "2          472\n",
              "im         461\n",
              "ur         386\n",
              "get        382\n",
              "go         277\n",
              "ltgt       276\n",
              "ok         275\n",
              "4          269\n",
              "free       253\n",
              "know       249\n",
              "like       243\n",
              "ill        238\n",
              "got        237\n",
              "good       232\n",
              "come       228\n",
              "time       205\n",
              "want       193\n",
              "send       190\n",
              "love       189\n",
              "text       186\n",
              "day        183\n",
              "going      170\n",
              "one        170\n",
              "me         167\n",
              "need       166\n",
              "lor        160\n",
              "home       160\n",
              "you        156\n",
              "see        155\n",
              "still      154\n",
              "now        154\n",
              "sorry      153\n",
              "r          153\n",
              "stop       150\n",
              "back       150\n",
              "txt        149\n",
              "dont       147\n",
              "n          146\n",
              "reply      143\n",
              "tell       137\n",
              "new        136\n",
              "later      134\n",
              "think      132\n",
              "mobile     128\n",
              "today      128\n",
              "hi         128\n",
              "well       127\n",
              "it         127\n",
              "take       126\n",
              "please     125\n",
              "da         125\n",
              "cant       124\n",
              "phone      118\n",
              "claim      111\n",
              "night      111\n",
              "much       109\n",
              "dear       109\n",
              "hey        107\n",
              "dtype: int64"
            ]
          },
          "metadata": {},
          "execution_count": 43
        }
      ]
    },
    {
      "cell_type": "code",
      "source": [
        "# Función adicional \n",
        "# Para las palabras en español\n",
        "\n",
        "def normalize_string(message):\n",
        "  if message is not None:\n",
        "    result = unicodedata.normalize('NFC',message).encode('ascii','ignore').decode()\n",
        "  else:\n",
        "    result = None\n",
        "  return result"
      ],
      "metadata": {
        "id": "T_civyRfBPCc"
      },
      "execution_count": 46,
      "outputs": []
    },
    {
      "cell_type": "code",
      "source": [
        "df_interin['Message'] = df_interin['Message'].apply(normalize_string)"
      ],
      "metadata": {
        "id": "ZR2Odq_zB7Ih"
      },
      "execution_count": 47,
      "outputs": []
    },
    {
      "cell_type": "code",
      "source": [
        "# Es común que escriban gooodd loovveee o etc etc.\n",
        "\n",
        "def replace_multiple_letters(message):\n",
        "  if message is not None:\n",
        "    result = re.sub(r\"([a-zA-Z])\\1{2,}\",r\"\\1\",message)\n",
        "  else:\n",
        "    result = None\n",
        "  return result"
      ],
      "metadata": {
        "id": "-Wa_wemWCvab"
      },
      "execution_count": 48,
      "outputs": []
    },
    {
      "cell_type": "code",
      "source": [
        "df_interin['Message'] = df_interin['Message'].apply(replace_multiple_letters)"
      ],
      "metadata": {
        "id": "DwKNzEQ1Dfo9"
      },
      "execution_count": 49,
      "outputs": []
    },
    {
      "cell_type": "code",
      "source": [
        "df_interin['Message'].str.split(expand=True).stack().value_counts()[:60]"
      ],
      "metadata": {
        "colab": {
          "base_uri": "https://localhost:8080/"
        },
        "id": "vPu5d5vREB5W",
        "outputId": "82b74417-80a9-4761-cba6-6fae6f442cec"
      },
      "execution_count": 50,
      "outputs": [
        {
          "output_type": "execute_result",
          "data": {
            "text/plain": [
              "u         1105\n",
              "call       573\n",
              "2          472\n",
              "im         470\n",
              "ur         386\n",
              "get        382\n",
              "go         277\n",
              "ltgt       276\n",
              "ok         275\n",
              "4          269\n",
              "free       253\n",
              "know       249\n",
              "like       243\n",
              "ill        242\n",
              "got        237\n",
              "good       232\n",
              "come       228\n",
              "time       205\n",
              "want       193\n",
              "love       190\n",
              "send       190\n",
              "text       186\n",
              "day        183\n",
              "one        170\n",
              "going      170\n",
              "me         167\n",
              "need       166\n",
              "home       160\n",
              "lor        160\n",
              "dont       158\n",
              "you        157\n",
              "see        155\n",
              "now        154\n",
              "still      154\n",
              "sorry      153\n",
              "r          153\n",
              "stop       150\n",
              "back       150\n",
              "txt        149\n",
              "n          146\n",
              "reply      143\n",
              "tell       137\n",
              "new        136\n",
              "later      134\n",
              "think      132\n",
              "today      128\n",
              "well       128\n",
              "hi         128\n",
              "mobile     128\n",
              "it         127\n",
              "cant       126\n",
              "take       126\n",
              "please     126\n",
              "da         125\n",
              "phone      118\n",
              "claim      111\n",
              "night      111\n",
              "oh         110\n",
              "much       109\n",
              "dear       109\n",
              "dtype: int64"
            ]
          },
          "metadata": {},
          "execution_count": 50
        }
      ]
    },
    {
      "cell_type": "code",
      "source": [
        "df = df_interin.copy()"
      ],
      "metadata": {
        "id": "Kq5ubTzcEKpD"
      },
      "execution_count": 53,
      "outputs": []
    },
    {
      "cell_type": "code",
      "source": [
        "X = df['Message']\n",
        "y = df['Category']\n",
        "\n",
        "X_train, X_test, y_train, y_test = train_test_split(X, y, stratify=y, random_state=121)"
      ],
      "metadata": {
        "id": "b61SDadvFbSk"
      },
      "execution_count": 55,
      "outputs": []
    },
    {
      "cell_type": "code",
      "source": [
        "# Vectorizador\n",
        "vec = CountVectorizer(stop_words='english')\n",
        "X_train = vec.fit_transform(X_train).toarray()\n",
        "X_test = vec.transform(X_test).toarray()"
      ],
      "metadata": {
        "id": "XN6G_sWhGAxs"
      },
      "execution_count": 56,
      "outputs": []
    },
    {
      "cell_type": "code",
      "source": [
        "X_train\n",
        "#filas = 4179 mensajes\n",
        "# columnas = 7559 palabras\n",
        "# Esto es para el train - faltan los de test"
      ],
      "metadata": {
        "colab": {
          "base_uri": "https://localhost:8080/"
        },
        "id": "NHUo1AFwGvkT",
        "outputId": "d5a05796-f431-4cc2-f9a8-fe5625961909"
      },
      "execution_count": 64,
      "outputs": [
        {
          "output_type": "execute_result",
          "data": {
            "text/plain": [
              "array([[0, 0, 0, ..., 0, 0, 0],\n",
              "       [0, 0, 0, ..., 0, 0, 0],\n",
              "       [0, 0, 0, ..., 0, 0, 0],\n",
              "       ...,\n",
              "       [0, 0, 0, ..., 0, 0, 0],\n",
              "       [0, 0, 0, ..., 0, 0, 0],\n",
              "       [0, 0, 0, ..., 0, 0, 0]])"
            ]
          },
          "metadata": {},
          "execution_count": 64
        }
      ]
    },
    {
      "cell_type": "code",
      "source": [
        "X_train.shape"
      ],
      "metadata": {
        "colab": {
          "base_uri": "https://localhost:8080/"
        },
        "id": "MS0ZjOtBG50F",
        "outputId": "ae963a68-5622-4221-c887-384463280e03"
      },
      "execution_count": 58,
      "outputs": [
        {
          "output_type": "execute_result",
          "data": {
            "text/plain": [
              "(4179, 7559)"
            ]
          },
          "metadata": {},
          "execution_count": 58
        }
      ]
    },
    {
      "cell_type": "code",
      "source": [
        "# Para ver los valores de la matríz\n",
        "vec.get_feature_names_out()\n"
      ],
      "metadata": {
        "colab": {
          "base_uri": "https://localhost:8080/"
        },
        "id": "gNI8s0aPHsBZ",
        "outputId": "56f5ede4-2f30-4b8c-c008-88a0b5566ff9"
      },
      "execution_count": 63,
      "outputs": [
        {
          "output_type": "execute_result",
          "data": {
            "text/plain": [
              "array(['008704050406', '0089', '0121', ..., 'zoe', 'zogtorius', 'zoom'],\n",
              "      dtype=object)"
            ]
          },
          "metadata": {},
          "execution_count": 63
        }
      ]
    },
    {
      "cell_type": "code",
      "source": [
        "nb = MultinomialNB()"
      ],
      "metadata": {
        "id": "tex7OrXEIW0b"
      },
      "execution_count": 73,
      "outputs": []
    },
    {
      "cell_type": "code",
      "source": [
        "nb.fit(X_train, y_train)"
      ],
      "metadata": {
        "colab": {
          "base_uri": "https://localhost:8080/"
        },
        "id": "s__wwTFpI-8G",
        "outputId": "074c4fc8-e6e5-4661-8811-abcb29df0d6c"
      },
      "execution_count": 75,
      "outputs": [
        {
          "output_type": "execute_result",
          "data": {
            "text/plain": [
              "MultinomialNB()"
            ]
          },
          "metadata": {},
          "execution_count": 75
        }
      ]
    },
    {
      "cell_type": "code",
      "source": [
        "nb.score(X_train, y_train)"
      ],
      "metadata": {
        "colab": {
          "base_uri": "https://localhost:8080/"
        },
        "id": "ySrwfF3XJBHt",
        "outputId": "793aec2c-f2b8-4ca9-e415-621d2d3d20cb"
      },
      "execution_count": 76,
      "outputs": [
        {
          "output_type": "execute_result",
          "data": {
            "text/plain": [
              "0.9952141660684374"
            ]
          },
          "metadata": {},
          "execution_count": 76
        }
      ]
    },
    {
      "cell_type": "code",
      "source": [
        "nb.score(X_test, y_test)"
      ],
      "metadata": {
        "colab": {
          "base_uri": "https://localhost:8080/"
        },
        "id": "4GhbpA_cJMHb",
        "outputId": "95e95bcf-d476-4fd6-89f5-12a8e472345c"
      },
      "execution_count": 77,
      "outputs": [
        {
          "output_type": "execute_result",
          "data": {
            "text/plain": [
              "0.9820531227566404"
            ]
          },
          "metadata": {},
          "execution_count": 77
        }
      ]
    },
    {
      "cell_type": "code",
      "source": [
        "# No es spam\n",
        "nb.predict(vec.transform(['hello my friend']))"
      ],
      "metadata": {
        "colab": {
          "base_uri": "https://localhost:8080/"
        },
        "id": "344aW5rTJVKZ",
        "outputId": "1da46062-3674-4e8e-ca28-4cdd9673d444"
      },
      "execution_count": 78,
      "outputs": [
        {
          "output_type": "execute_result",
          "data": {
            "text/plain": [
              "array(['ham'], dtype='<U4')"
            ]
          },
          "metadata": {},
          "execution_count": 78
        }
      ]
    },
    {
      "cell_type": "code",
      "source": [
        "# Es spam\n",
        "nb.predict(vec.transform(['free for season']))"
      ],
      "metadata": {
        "colab": {
          "base_uri": "https://localhost:8080/"
        },
        "id": "7w9o94kwJm5Q",
        "outputId": "654c0ad5-22f7-4d46-cc40-89510299f32a"
      },
      "execution_count": 79,
      "outputs": [
        {
          "output_type": "execute_result",
          "data": {
            "text/plain": [
              "array(['spam'], dtype='<U4')"
            ]
          },
          "metadata": {},
          "execution_count": 79
        }
      ]
    }
  ]
}